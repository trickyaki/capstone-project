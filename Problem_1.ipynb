{
    "nbformat_minor": 1, 
    "cells": [
        {
            "source": "# import the required libraries\nimport pandas as pd\nimport numpy as np\nimport urllib.request\nfrom bs4 import BeautifulSoup\n\n# assigning the required link to variable url and requesting html data\nurl='https://en.wikipedia.org/wiki/List_of_postal_codes_of_Canada:_M'\npage=urllib.request.urlopen(url)\nsoup=BeautifulSoup(page,\"lxml\")\n\n# using beautifulSoup to find the coorect table\nright_table=soup.find('table', class_='wikitable sortable')", 
            "cell_type": "code", 
            "metadata": {}, 
            "outputs": [], 
            "execution_count": 57
        }, 
        {
            "source": "# creating empty lists to fill in the data from table\nA=[]\nB=[]\nC=[]\n\n# for loop to iterate through each row and fill each cell of the row with table data\nfor row in right_table.findAll(\"tr\"):\n    cells=row.findAll(\"td\")\n    if len(cells)==3:\n        A.append(cells[0].find(text=True))\n        B.append(cells[1].find(text=True))\n        C.append(cells[2].find(text=True))\n\n# converting the lists to dataFrame\ndf=pd.DataFrame(A,columns=['Postcode'])\ndf['Borough']=B\ndf['Neighbourhood']=C\n\n# removing rows where Boroughs are 'Not Assigned'\ndf_e=df.drop(df[(df['Borough']=='Not assigned')].index)\n\n# merging 'Neighbourhood' column for same 'Postcode' and seperating by commas\ndf_g=df_e.groupby(['Postcode','Borough'])['Neighbourhood'].apply(', '.join).str.replace('(\\\\n)', '').reset_index()\n\n# replacing 'Neighbourhood' cells having values 'Not Assigned' to 'Borough' values\ndf_g.loc[df_g.Neighbourhood == 'Not assigned', 'Neighbourhood'] = df_g['Borough']\n\n# display first 5 rows\ndf_g.head()", 
            "cell_type": "code", 
            "metadata": {}, 
            "outputs": [
                {
                    "output_type": "execute_result", 
                    "data": {
                        "text/html": "<div>\n<style scoped>\n    .dataframe tbody tr th:only-of-type {\n        vertical-align: middle;\n    }\n\n    .dataframe tbody tr th {\n        vertical-align: top;\n    }\n\n    .dataframe thead th {\n        text-align: right;\n    }\n</style>\n<table border=\"1\" class=\"dataframe\">\n  <thead>\n    <tr style=\"text-align: right;\">\n      <th></th>\n      <th>Postcode</th>\n      <th>Borough</th>\n      <th>Neighbourhood</th>\n    </tr>\n  </thead>\n  <tbody>\n    <tr>\n      <th>0</th>\n      <td>M1B</td>\n      <td>Scarborough</td>\n      <td>Rouge, Malvern</td>\n    </tr>\n    <tr>\n      <th>1</th>\n      <td>M1C</td>\n      <td>Scarborough</td>\n      <td>Highland Creek, Rouge Hill, Port Union</td>\n    </tr>\n    <tr>\n      <th>2</th>\n      <td>M1E</td>\n      <td>Scarborough</td>\n      <td>Guildwood, Morningside, West Hill</td>\n    </tr>\n    <tr>\n      <th>3</th>\n      <td>M1G</td>\n      <td>Scarborough</td>\n      <td>Woburn</td>\n    </tr>\n    <tr>\n      <th>4</th>\n      <td>M1H</td>\n      <td>Scarborough</td>\n      <td>Cedarbrae</td>\n    </tr>\n  </tbody>\n</table>\n</div>", 
                        "text/plain": "  Postcode      Borough                           Neighbourhood\n0      M1B  Scarborough                          Rouge, Malvern\n1      M1C  Scarborough  Highland Creek, Rouge Hill, Port Union\n2      M1E  Scarborough       Guildwood, Morningside, West Hill\n3      M1G  Scarborough                                  Woburn\n4      M1H  Scarborough                               Cedarbrae"
                    }, 
                    "execution_count": 58, 
                    "metadata": {}
                }
            ], 
            "execution_count": 58
        }, 
        {
            "source": "# print shape of dataFrame\nprint(\"Shape of dataFrame: \",df_g.shape)", 
            "cell_type": "code", 
            "metadata": {}, 
            "outputs": [
                {
                    "output_type": "stream", 
                    "name": "stdout", 
                    "text": "Shape of dataFrame:  (103, 3)\n"
                }
            ], 
            "execution_count": 59
        }
    ], 
    "metadata": {
        "kernelspec": {
            "display_name": "Python 3.5", 
            "name": "python3", 
            "language": "python"
        }, 
        "language_info": {
            "mimetype": "text/x-python", 
            "nbconvert_exporter": "python", 
            "version": "3.5.5", 
            "name": "python", 
            "file_extension": ".py", 
            "pygments_lexer": "ipython3", 
            "codemirror_mode": {
                "version": 3, 
                "name": "ipython"
            }
        }
    }, 
    "nbformat": 4
}