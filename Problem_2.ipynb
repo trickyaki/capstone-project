{
    "nbformat_minor": 1, 
    "cells": [
        {
            "source": "# import the required libraries\nimport pandas as pd\nimport numpy as np\nimport urllib.request\nfrom bs4 import BeautifulSoup\n\n# assigning the required link to variable url and requesting html data\nurl='https://en.wikipedia.org/wiki/List_of_postal_codes_of_Canada:_M'\npage=urllib.request.urlopen(url)\nsoup=BeautifulSoup(page,\"lxml\")\n\n# using beautifulSoup to find the coorect table\nright_table=soup.find('table', class_='wikitable sortable')", 
            "cell_type": "code", 
            "metadata": {}, 
            "outputs": [], 
            "execution_count": 7
        }, 
        {
            "source": "# creating empty lists to fill in the data from table\nA=[]\nB=[]\nC=[]\n\n# for loop to iterate through each row and fill each cell of the row with table data\nfor row in right_table.findAll(\"tr\"):\n    cells=row.findAll(\"td\")\n    if len(cells)==3:\n        A.append(cells[0].find(text=True))\n        B.append(cells[1].find(text=True))\n        C.append(cells[2].find(text=True))\n\n# converting the lists to dataFrame\ndf=pd.DataFrame(A,columns=['Postcode'])\ndf['Borough']=B\ndf['Neighbourhood']=C\n\n# removing rows where Boroughs are 'Not Assigned'\ndf_e=df.drop(df[(df['Borough']=='Not assigned')].index)\n\n# merging 'Neighbourhood' column for same 'Postcode' and seperating by commas\ndf_g=df_e.groupby(['Postcode','Borough'])['Neighbourhood'].apply(', '.join).str.replace('(\\\\n)', '').reset_index()\n\n# replacing 'Neighbourhood' cells having values 'Not Assigned' to 'Borough' values\ndf_g.loc[df_g.Neighbourhood == 'Not assigned', 'Neighbourhood'] = df_g['Borough']", 
            "cell_type": "code", 
            "metadata": {}, 
            "outputs": [], 
            "execution_count": 8
        }, 
        {
            "source": "# obtaining the csv file with geospatial coordinates\n!wget -q -O can_geo.csv https://cocl.us/Geospatial_data;", 
            "cell_type": "code", 
            "metadata": {}, 
            "outputs": [], 
            "execution_count": 4
        }, 
        {
            "source": "# extracting csv data into dataFrame and changing 'Post Code' column name to 'Postcode' to perform merge with 'df_g' dataFrame\ncan_df = pd.read_csv(\"can_geo.csv\")\ncan_df=can_df.rename(columns = {'Postal Code':'Postcode'})\n\n# innerjoin between two dataFrames with unique column 'Postcode'\ndf3 = pd.merge(df_g, can_df)\ndf3.head()", 
            "cell_type": "code", 
            "metadata": {}, 
            "outputs": [
                {
                    "output_type": "execute_result", 
                    "data": {
                        "text/plain": "  Postcode      Borough                           Neighbourhood   Latitude  \\\n0      M1B  Scarborough                          Rouge, Malvern  43.806686   \n1      M1C  Scarborough  Highland Creek, Rouge Hill, Port Union  43.784535   \n2      M1E  Scarborough       Guildwood, Morningside, West Hill  43.763573   \n3      M1G  Scarborough                                  Woburn  43.770992   \n4      M1H  Scarborough                               Cedarbrae  43.773136   \n\n   Longitude  \n0 -79.194353  \n1 -79.160497  \n2 -79.188711  \n3 -79.216917  \n4 -79.239476  ", 
                        "text/html": "<div>\n<style scoped>\n    .dataframe tbody tr th:only-of-type {\n        vertical-align: middle;\n    }\n\n    .dataframe tbody tr th {\n        vertical-align: top;\n    }\n\n    .dataframe thead th {\n        text-align: right;\n    }\n</style>\n<table border=\"1\" class=\"dataframe\">\n  <thead>\n    <tr style=\"text-align: right;\">\n      <th></th>\n      <th>Postcode</th>\n      <th>Borough</th>\n      <th>Neighbourhood</th>\n      <th>Latitude</th>\n      <th>Longitude</th>\n    </tr>\n  </thead>\n  <tbody>\n    <tr>\n      <th>0</th>\n      <td>M1B</td>\n      <td>Scarborough</td>\n      <td>Rouge, Malvern</td>\n      <td>43.806686</td>\n      <td>-79.194353</td>\n    </tr>\n    <tr>\n      <th>1</th>\n      <td>M1C</td>\n      <td>Scarborough</td>\n      <td>Highland Creek, Rouge Hill, Port Union</td>\n      <td>43.784535</td>\n      <td>-79.160497</td>\n    </tr>\n    <tr>\n      <th>2</th>\n      <td>M1E</td>\n      <td>Scarborough</td>\n      <td>Guildwood, Morningside, West Hill</td>\n      <td>43.763573</td>\n      <td>-79.188711</td>\n    </tr>\n    <tr>\n      <th>3</th>\n      <td>M1G</td>\n      <td>Scarborough</td>\n      <td>Woburn</td>\n      <td>43.770992</td>\n      <td>-79.216917</td>\n    </tr>\n    <tr>\n      <th>4</th>\n      <td>M1H</td>\n      <td>Scarborough</td>\n      <td>Cedarbrae</td>\n      <td>43.773136</td>\n      <td>-79.239476</td>\n    </tr>\n  </tbody>\n</table>\n</div>"
                    }, 
                    "execution_count": 11, 
                    "metadata": {}
                }
            ], 
            "execution_count": 11
        }, 
        {
            "source": "", 
            "cell_type": "code", 
            "metadata": {}, 
            "outputs": [], 
            "execution_count": null
        }
    ], 
    "metadata": {
        "kernelspec": {
            "display_name": "Python 3.5", 
            "name": "python3", 
            "language": "python"
        }, 
        "language_info": {
            "mimetype": "text/x-python", 
            "nbconvert_exporter": "python", 
            "version": "3.5.5", 
            "name": "python", 
            "pygments_lexer": "ipython3", 
            "file_extension": ".py", 
            "codemirror_mode": {
                "version": 3, 
                "name": "ipython"
            }
        }
    }, 
    "nbformat": 4
}